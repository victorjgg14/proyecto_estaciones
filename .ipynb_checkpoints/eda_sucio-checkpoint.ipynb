{
 "cells": [
  {
   "cell_type": "code",
   "execution_count": 1,
   "id": "83eb535f",
   "metadata": {},
   "outputs": [],
   "source": [
    "import pandas as pd\n",
    "import numpy as np\n",
    "import matplotlib.pyplot as plt\n",
    "import seaborn as sns"
   ]
  },
  {
   "cell_type": "code",
   "execution_count": 2,
   "id": "c09e7503",
   "metadata": {},
   "outputs": [],
   "source": [
    "url = 'tabla_estaciones.csv'\n",
    "df = pd.read_csv(url)"
   ]
  },
  {
   "cell_type": "code",
   "execution_count": 3,
   "id": "cdb7fdd2",
   "metadata": {
    "scrolled": false
   },
   "outputs": [
    {
     "data": {
      "text/html": [
       "<div>\n",
       "<style scoped>\n",
       "    .dataframe tbody tr th:only-of-type {\n",
       "        vertical-align: middle;\n",
       "    }\n",
       "\n",
       "    .dataframe tbody tr th {\n",
       "        vertical-align: top;\n",
       "    }\n",
       "\n",
       "    .dataframe thead th {\n",
       "        text-align: right;\n",
       "    }\n",
       "</style>\n",
       "<table border=\"1\" class=\"dataframe\">\n",
       "  <thead>\n",
       "    <tr style=\"text-align: right;\">\n",
       "      <th></th>\n",
       "      <th>id</th>\n",
       "      <th>name</th>\n",
       "      <th>downhill_skiing</th>\n",
       "      <th>nordic_skiing</th>\n",
       "      <th>status_id</th>\n",
       "      <th>lifts_total</th>\n",
       "      <th>runs_total</th>\n",
       "      <th>km_total</th>\n",
       "      <th>green_runs_total</th>\n",
       "      <th>blue_runs_total</th>\n",
       "      <th>red_runs_total</th>\n",
       "      <th>black_runs_total</th>\n",
       "      <th>special_runs</th>\n",
       "      <th>snowpark</th>\n",
       "      <th>special_runs_total</th>\n",
       "      <th>trineos</th>\n",
       "      <th>esqui_de_fondo</th>\n",
       "    </tr>\n",
       "  </thead>\n",
       "  <tbody>\n",
       "    <tr>\n",
       "      <th>0</th>\n",
       "      <td>22001</td>\n",
       "      <td>Alp 2500</td>\n",
       "      <td>1</td>\n",
       "      <td>0</td>\n",
       "      <td>1</td>\n",
       "      <td>33</td>\n",
       "      <td>138</td>\n",
       "      <td>145.0</td>\n",
       "      <td>29</td>\n",
       "      <td>49</td>\n",
       "      <td>44</td>\n",
       "      <td>16</td>\n",
       "      <td>0</td>\n",
       "      <td>0</td>\n",
       "      <td>0</td>\n",
       "      <td>0</td>\n",
       "      <td>0</td>\n",
       "    </tr>\n",
       "    <tr>\n",
       "      <th>1</th>\n",
       "      <td>20</td>\n",
       "      <td>La Molina</td>\n",
       "      <td>1</td>\n",
       "      <td>0</td>\n",
       "      <td>1</td>\n",
       "      <td>16</td>\n",
       "      <td>66</td>\n",
       "      <td>71.0</td>\n",
       "      <td>20</td>\n",
       "      <td>18</td>\n",
       "      <td>22</td>\n",
       "      <td>6</td>\n",
       "      <td>0</td>\n",
       "      <td>1</td>\n",
       "      <td>0</td>\n",
       "      <td>1</td>\n",
       "      <td>0</td>\n",
       "    </tr>\n",
       "    <tr>\n",
       "      <th>2</th>\n",
       "      <td>19</td>\n",
       "      <td>Masella</td>\n",
       "      <td>1</td>\n",
       "      <td>0</td>\n",
       "      <td>1</td>\n",
       "      <td>17</td>\n",
       "      <td>72</td>\n",
       "      <td>74.0</td>\n",
       "      <td>9</td>\n",
       "      <td>31</td>\n",
       "      <td>22</td>\n",
       "      <td>10</td>\n",
       "      <td>0</td>\n",
       "      <td>0</td>\n",
       "      <td>0</td>\n",
       "      <td>0</td>\n",
       "      <td>0</td>\n",
       "    </tr>\n",
       "    <tr>\n",
       "      <th>3</th>\n",
       "      <td>16</td>\n",
       "      <td>Baqueira Beret</td>\n",
       "      <td>1</td>\n",
       "      <td>0</td>\n",
       "      <td>1</td>\n",
       "      <td>36</td>\n",
       "      <td>116</td>\n",
       "      <td>170.0</td>\n",
       "      <td>5</td>\n",
       "      <td>43</td>\n",
       "      <td>48</td>\n",
       "      <td>17</td>\n",
       "      <td>1</td>\n",
       "      <td>1</td>\n",
       "      <td>3</td>\n",
       "      <td>0</td>\n",
       "      <td>1</td>\n",
       "    </tr>\n",
       "    <tr>\n",
       "      <th>4</th>\n",
       "      <td>17</td>\n",
       "      <td>Boí Taüll</td>\n",
       "      <td>1</td>\n",
       "      <td>0</td>\n",
       "      <td>1</td>\n",
       "      <td>10</td>\n",
       "      <td>43</td>\n",
       "      <td>46.0</td>\n",
       "      <td>6</td>\n",
       "      <td>6</td>\n",
       "      <td>15</td>\n",
       "      <td>16</td>\n",
       "      <td>0</td>\n",
       "      <td>1</td>\n",
       "      <td>0</td>\n",
       "      <td>1</td>\n",
       "      <td>0</td>\n",
       "    </tr>\n",
       "    <tr>\n",
       "      <th>5</th>\n",
       "      <td>18</td>\n",
       "      <td>Espot</td>\n",
       "      <td>1</td>\n",
       "      <td>0</td>\n",
       "      <td>1</td>\n",
       "      <td>5</td>\n",
       "      <td>22</td>\n",
       "      <td>25.0</td>\n",
       "      <td>2</td>\n",
       "      <td>10</td>\n",
       "      <td>6</td>\n",
       "      <td>4</td>\n",
       "      <td>0</td>\n",
       "      <td>0</td>\n",
       "      <td>0</td>\n",
       "      <td>1</td>\n",
       "      <td>0</td>\n",
       "    </tr>\n",
       "    <tr>\n",
       "      <th>6</th>\n",
       "      <td>21</td>\n",
       "      <td>Port Ainé</td>\n",
       "      <td>1</td>\n",
       "      <td>0</td>\n",
       "      <td>1</td>\n",
       "      <td>7</td>\n",
       "      <td>25</td>\n",
       "      <td>27.0</td>\n",
       "      <td>6</td>\n",
       "      <td>4</td>\n",
       "      <td>11</td>\n",
       "      <td>4</td>\n",
       "      <td>0</td>\n",
       "      <td>1</td>\n",
       "      <td>0</td>\n",
       "      <td>1</td>\n",
       "      <td>0</td>\n",
       "    </tr>\n",
       "    <tr>\n",
       "      <th>7</th>\n",
       "      <td>22</td>\n",
       "      <td>Port del Comte</td>\n",
       "      <td>1</td>\n",
       "      <td>0</td>\n",
       "      <td>1</td>\n",
       "      <td>17</td>\n",
       "      <td>39</td>\n",
       "      <td>50.0</td>\n",
       "      <td>8</td>\n",
       "      <td>13</td>\n",
       "      <td>12</td>\n",
       "      <td>6</td>\n",
       "      <td>0</td>\n",
       "      <td>0</td>\n",
       "      <td>0</td>\n",
       "      <td>0</td>\n",
       "      <td>0</td>\n",
       "    </tr>\n",
       "    <tr>\n",
       "      <th>8</th>\n",
       "      <td>2412</td>\n",
       "      <td>Tavascán</td>\n",
       "      <td>1</td>\n",
       "      <td>0</td>\n",
       "      <td>4</td>\n",
       "      <td>3</td>\n",
       "      <td>7</td>\n",
       "      <td>7.0</td>\n",
       "      <td>2</td>\n",
       "      <td>1</td>\n",
       "      <td>2</td>\n",
       "      <td>2</td>\n",
       "      <td>0</td>\n",
       "      <td>0</td>\n",
       "      <td>0</td>\n",
       "      <td>0</td>\n",
       "      <td>0</td>\n",
       "    </tr>\n",
       "    <tr>\n",
       "      <th>9</th>\n",
       "      <td>23</td>\n",
       "      <td>Vall de Nuria</td>\n",
       "      <td>1</td>\n",
       "      <td>0</td>\n",
       "      <td>1</td>\n",
       "      <td>7</td>\n",
       "      <td>11</td>\n",
       "      <td>8.0</td>\n",
       "      <td>3</td>\n",
       "      <td>3</td>\n",
       "      <td>3</td>\n",
       "      <td>2</td>\n",
       "      <td>0</td>\n",
       "      <td>0</td>\n",
       "      <td>0</td>\n",
       "      <td>1</td>\n",
       "      <td>0</td>\n",
       "    </tr>\n",
       "  </tbody>\n",
       "</table>\n",
       "</div>"
      ],
      "text/plain": [
       "      id            name  downhill_skiing  nordic_skiing  status_id  \\\n",
       "0  22001        Alp 2500                1              0          1   \n",
       "1     20       La Molina                1              0          1   \n",
       "2     19         Masella                1              0          1   \n",
       "3     16  Baqueira Beret                1              0          1   \n",
       "4     17       Boí Taüll                1              0          1   \n",
       "5     18           Espot                1              0          1   \n",
       "6     21       Port Ainé                1              0          1   \n",
       "7     22  Port del Comte                1              0          1   \n",
       "8   2412        Tavascán                1              0          4   \n",
       "9     23   Vall de Nuria                1              0          1   \n",
       "\n",
       "   lifts_total  runs_total  km_total  green_runs_total  blue_runs_total  \\\n",
       "0           33         138     145.0                29               49   \n",
       "1           16          66      71.0                20               18   \n",
       "2           17          72      74.0                 9               31   \n",
       "3           36         116     170.0                 5               43   \n",
       "4           10          43      46.0                 6                6   \n",
       "5            5          22      25.0                 2               10   \n",
       "6            7          25      27.0                 6                4   \n",
       "7           17          39      50.0                 8               13   \n",
       "8            3           7       7.0                 2                1   \n",
       "9            7          11       8.0                 3                3   \n",
       "\n",
       "   red_runs_total  black_runs_total  special_runs  snowpark  \\\n",
       "0              44                16             0         0   \n",
       "1              22                 6             0         1   \n",
       "2              22                10             0         0   \n",
       "3              48                17             1         1   \n",
       "4              15                16             0         1   \n",
       "5               6                 4             0         0   \n",
       "6              11                 4             0         1   \n",
       "7              12                 6             0         0   \n",
       "8               2                 2             0         0   \n",
       "9               3                 2             0         0   \n",
       "\n",
       "   special_runs_total  trineos  esqui_de_fondo  \n",
       "0                   0        0               0  \n",
       "1                   0        1               0  \n",
       "2                   0        0               0  \n",
       "3                   3        0               1  \n",
       "4                   0        1               0  \n",
       "5                   0        1               0  \n",
       "6                   0        1               0  \n",
       "7                   0        0               0  \n",
       "8                   0        0               0  \n",
       "9                   0        1               0  "
      ]
     },
     "execution_count": 3,
     "metadata": {},
     "output_type": "execute_result"
    }
   ],
   "source": [
    "df.head(10)"
   ]
  },
  {
   "cell_type": "code",
   "execution_count": 4,
   "id": "016e8b75",
   "metadata": {},
   "outputs": [
    {
     "data": {
      "text/plain": [
       "44.36161764705883"
      ]
     },
     "execution_count": 4,
     "metadata": {},
     "output_type": "execute_result"
    }
   ],
   "source": [
    "df.km_total.mean()"
   ]
  },
  {
   "cell_type": "code",
   "execution_count": 5,
   "id": "6079af36",
   "metadata": {},
   "outputs": [
    {
     "data": {
      "text/plain": [
       "28.689999999999998"
      ]
     },
     "execution_count": 5,
     "metadata": {},
     "output_type": "execute_result"
    }
   ],
   "source": [
    "df.km_total.median()"
   ]
  },
  {
   "cell_type": "code",
   "execution_count": 6,
   "id": "a82156de",
   "metadata": {},
   "outputs": [
    {
     "data": {
      "text/plain": [
       "0    15.0\n",
       "1    25.0\n",
       "2    50.0\n",
       "Name: km_total, dtype: float64"
      ]
     },
     "execution_count": 6,
     "metadata": {},
     "output_type": "execute_result"
    }
   ],
   "source": [
    "df.km_total.mode()"
   ]
  },
  {
   "cell_type": "code",
   "execution_count": 16,
   "id": "dafef572",
   "metadata": {
    "scrolled": false
   },
   "outputs": [
    {
     "data": {
      "text/plain": [
       "km_total\n",
       "15.00     3\n",
       "25.00     3\n",
       "50.00     3\n",
       "17.00     2\n",
       "22.00     2\n",
       "40.00     2\n",
       "32.00     2\n",
       "100.00    2\n",
       "39.00     2\n",
       "80.00     2\n",
       "60.00     2\n",
       "7.00      2\n",
       "27.00     2\n",
       "12.00     2\n",
       "5.00      1\n",
       "0.50      1\n",
       "111.40    1\n",
       "210.00    1\n",
       "30.50     1\n",
       "63.00     1\n",
       "2.50      1\n",
       "36.00     1\n",
       "43.00     1\n",
       "65.00     1\n",
       "4.00      1\n",
       "20.00     1\n",
       "17.66     1\n",
       "23.00     1\n",
       "22.24     1\n",
       "145.00    1\n",
       "5.10      1\n",
       "143.00    1\n",
       "74.00     1\n",
       "170.00    1\n",
       "46.00     1\n",
       "8.00      1\n",
       "13.00     1\n",
       "100.50    1\n",
       "50.50     1\n",
       "182.00    1\n",
       "30.38     1\n",
       "15.57     1\n",
       "8.76      1\n",
       "16.75     1\n",
       "31.10     1\n",
       "22.58     1\n",
       "8.40      1\n",
       "1.80      1\n",
       "71.00     1\n",
       "22.35     1\n",
       "55.00     1\n",
       "Name: count, dtype: int64"
      ]
     },
     "execution_count": 16,
     "metadata": {},
     "output_type": "execute_result"
    }
   ],
   "source": [
    "df.km_total.value_counts()"
   ]
  },
  {
   "cell_type": "code",
   "execution_count": 8,
   "id": "19f37508",
   "metadata": {},
   "outputs": [
    {
     "data": {
      "text/plain": [
       "0    23\n",
       "Name: runs_total, dtype: int64"
      ]
     },
     "execution_count": 8,
     "metadata": {},
     "output_type": "execute_result"
    }
   ],
   "source": [
    "df.runs_total.mode()"
   ]
  },
  {
   "cell_type": "code",
   "execution_count": 9,
   "id": "3d1aa45d",
   "metadata": {},
   "outputs": [
    {
     "data": {
      "text/plain": [
       "runs_total\n",
       "23     4\n",
       "20     3\n",
       "45     3\n",
       "29     3\n",
       "138    2\n",
       "28     2\n",
       "19     2\n",
       "8      2\n",
       "27     2\n",
       "2      2\n",
       "14     2\n",
       "15     2\n",
       "37     2\n",
       "11     2\n",
       "7      2\n",
       "25     2\n",
       "22     2\n",
       "72     2\n",
       "40     1\n",
       "60     1\n",
       "17     1\n",
       "24     1\n",
       "16     1\n",
       "53     1\n",
       "42     1\n",
       "3      1\n",
       "21     1\n",
       "5      1\n",
       "50     1\n",
       "18     1\n",
       "131    1\n",
       "26     1\n",
       "66     1\n",
       "38     1\n",
       "32     1\n",
       "102    1\n",
       "147    1\n",
       "57     1\n",
       "61     1\n",
       "118    1\n",
       "13     1\n",
       "39     1\n",
       "43     1\n",
       "116    1\n",
       "33     1\n",
       "Name: count, dtype: int64"
      ]
     },
     "execution_count": 9,
     "metadata": {},
     "output_type": "execute_result"
    }
   ],
   "source": [
    "df.runs_total.value_counts()"
   ]
  },
  {
   "cell_type": "code",
   "execution_count": 59,
   "id": "a9c2bfca",
   "metadata": {},
   "outputs": [
    {
     "data": {
      "text/html": [
       "<div>\n",
       "<style scoped>\n",
       "    .dataframe tbody tr th:only-of-type {\n",
       "        vertical-align: middle;\n",
       "    }\n",
       "\n",
       "    .dataframe tbody tr th {\n",
       "        vertical-align: top;\n",
       "    }\n",
       "\n",
       "    .dataframe thead th {\n",
       "        text-align: right;\n",
       "    }\n",
       "</style>\n",
       "<table border=\"1\" class=\"dataframe\">\n",
       "  <thead>\n",
       "    <tr style=\"text-align: right;\">\n",
       "      <th>trineos</th>\n",
       "      <th>0</th>\n",
       "      <th>1</th>\n",
       "    </tr>\n",
       "    <tr>\n",
       "      <th>snowpark</th>\n",
       "      <th></th>\n",
       "      <th></th>\n",
       "    </tr>\n",
       "  </thead>\n",
       "  <tbody>\n",
       "    <tr>\n",
       "      <th>0</th>\n",
       "      <td>25</td>\n",
       "      <td>7</td>\n",
       "    </tr>\n",
       "    <tr>\n",
       "      <th>1</th>\n",
       "      <td>12</td>\n",
       "      <td>24</td>\n",
       "    </tr>\n",
       "  </tbody>\n",
       "</table>\n",
       "</div>"
      ],
      "text/plain": [
       "trineos    0   1\n",
       "snowpark        \n",
       "0         25   7\n",
       "1         12  24"
      ]
     },
     "execution_count": 59,
     "metadata": {},
     "output_type": "execute_result"
    }
   ],
   "source": [
    "crosstab_result = pd.crosstab(df['snowpark'], df['trineos'])\n",
    "\n",
    "crosstab_result"
   ]
  },
  {
   "cell_type": "code",
   "execution_count": 60,
   "id": "2214f2a7",
   "metadata": {
    "scrolled": true
   },
   "outputs": [
    {
     "data": {
      "text/plain": [
       "0.4488918837293863"
      ]
     },
     "execution_count": 60,
     "metadata": {},
     "output_type": "execute_result"
    }
   ],
   "source": [
    "from scipy.stats.contingency import association\n",
    "\n",
    "# Computing the association between variables in 'crosstab_result' using the \"cramer\" method\n",
    "association(crosstab_result, method=\"cramer\")"
   ]
  },
  {
   "cell_type": "code",
   "execution_count": 70,
   "id": "7d9e58c0",
   "metadata": {},
   "outputs": [
    {
     "data": {
      "text/plain": [
       "<Figure size 1200x800 with 0 Axes>"
      ]
     },
     "metadata": {},
     "output_type": "display_data"
    },
    {
     "data": {
      "image/png": "[encoded data removed]",
      "text/plain": [
       "<Figure size 640x480 with 1 Axes>"
      ]
     },
     "metadata": {},
     "output_type": "display_data"
    }
   ],
   "source": [
    "import matplotlib.pyplot as plt\n",
    "\n",
    "# Definir el tamaño de la figura\n",
    "plt.figure(figsize=(12, 8))\n",
    "\n",
    "# Tratar de hacer un crosstab_result\n",
    "crosstab_result.plot(kind=\"bar\", stacked=False)\n",
    "\n",
    "# Ajustar el tamaño de la fuente del eje x y eje y para que sea legible\n",
    "plt.xticks(fontsize=7)\n",
    "plt.yticks(fontsize=7)\n",
    "\n",
    "# Quitar la leyenda\n",
    "plt.legend().set_visible(False)\n",
    "\n",
    "# Mostrar el gráfico\n",
    "plt.show()\n"
   ]
  },
  {
   "cell_type": "code",
   "execution_count": 63,
   "id": "ac7cceec",
   "metadata": {
    "scrolled": true
   },
   "outputs": [
    {
     "data": {
      "text/html": [
       "<div>\n",
       "<style scoped>\n",
       "    .dataframe tbody tr th:only-of-type {\n",
       "        vertical-align: middle;\n",
       "    }\n",
       "\n",
       "    .dataframe tbody tr th {\n",
       "        vertical-align: top;\n",
       "    }\n",
       "\n",
       "    .dataframe thead th {\n",
       "        text-align: right;\n",
       "    }\n",
       "</style>\n",
       "<table border=\"1\" class=\"dataframe\">\n",
       "  <thead>\n",
       "    <tr style=\"text-align: right;\">\n",
       "      <th>trineos</th>\n",
       "      <th>0</th>\n",
       "      <th>1</th>\n",
       "    </tr>\n",
       "    <tr>\n",
       "      <th>esqui_de_fondo</th>\n",
       "      <th></th>\n",
       "      <th></th>\n",
       "    </tr>\n",
       "  </thead>\n",
       "  <tbody>\n",
       "    <tr>\n",
       "      <th>0</th>\n",
       "      <td>33</td>\n",
       "      <td>23</td>\n",
       "    </tr>\n",
       "    <tr>\n",
       "      <th>1</th>\n",
       "      <td>4</td>\n",
       "      <td>8</td>\n",
       "    </tr>\n",
       "  </tbody>\n",
       "</table>\n",
       "</div>"
      ],
      "text/plain": [
       "trineos          0   1\n",
       "esqui_de_fondo        \n",
       "0               33  23\n",
       "1                4   8"
      ]
     },
     "execution_count": 63,
     "metadata": {},
     "output_type": "execute_result"
    }
   ],
   "source": [
    "crosstab_result2 = pd.crosstab(df['esqui_de_fondo'], df['trineos'])\n",
    "\n",
    "crosstab_result2"
   ]
  },
  {
   "cell_type": "code",
   "execution_count": 72,
   "id": "1432f167",
   "metadata": {},
   "outputs": [
    {
     "data": {
      "text/plain": [
       "0.19591247962297414"
      ]
     },
     "execution_count": 72,
     "metadata": {},
     "output_type": "execute_result"
    }
   ],
   "source": [
    "from scipy.stats.contingency import association\n",
    "\n",
    "# Computing the association between variables in 'crosstab_result' using the \"cramer\" method\n",
    "association(crosstab_result2, method=\"cramer\")\n",
    "\n",
    "# esqui de fondo y trineos"
   ]
  },
  {
   "cell_type": "code",
   "execution_count": 71,
   "id": "84636937",
   "metadata": {},
   "outputs": [
    {
     "data": {
      "text/plain": [
       "<Figure size 1200x800 with 0 Axes>"
      ]
     },
     "metadata": {},
     "output_type": "display_data"
    },
    {
     "data": {
      "image/png": "[encoded data removed]",
      "text/plain": [
       "<Figure size 640x480 with 1 Axes>"
      ]
     },
     "metadata": {},
     "output_type": "display_data"
    }
   ],
   "source": [
    "# Definir el tamaño de la figura\n",
    "plt.figure(figsize=(12, 8))\n",
    "\n",
    "# Tratar de hacer un crosstab_result\n",
    "crosstab_result2.plot(kind=\"bar\", stacked=True)\n",
    "\n",
    "# Ajustar el tamaño de la fuente del eje x y eje y para que sea legible\n",
    "plt.xticks(fontsize=7)\n",
    "plt.yticks(fontsize=7)\n",
    "\n",
    "# Quitar la leyenda\n",
    "plt.legend().set_visible(False)\n",
    "\n",
    "# Mostrar el gráfico\n",
    "plt.show()\n"
   ]
  },
  {
   "cell_type": "code",
   "execution_count": null,
   "id": "f0b2ee1a",
   "metadata": {},
   "outputs": [],
   "source": []
  },
  {
   "cell_type": "code",
   "execution_count": null,
   "id": "e14cb2b9",
   "metadata": {},
   "outputs": [],
   "source": []
  }
 ],
 "metadata": {
  "kernelspec": {
   "display_name": "Python 3 (ipykernel)",
   "language": "python",
   "name": "python3"
  },
  "language_info": {
   "codemirror_mode": {
    "name": "ipython",
    "version": 3
   },
   "file_extension": ".py",
   "mimetype": "text/x-python",
   "name": "python",
   "nbconvert_exporter": "python",
   "pygments_lexer": "ipython3",
   "version": "3.11.5"
  }
 },
 "nbformat": 4,
 "nbformat_minor": 5
}
